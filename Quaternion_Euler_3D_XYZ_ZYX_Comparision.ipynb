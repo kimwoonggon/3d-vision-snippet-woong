{
  "nbformat": 4,
  "nbformat_minor": 0,
  "metadata": {
    "colab": {
      "provenance": [],
      "authorship_tag": "ABX9TyNjIRf1K8eYxTxTO7x2tK1m",
      "include_colab_link": true
    },
    "kernelspec": {
      "name": "python3",
      "display_name": "Python 3"
    },
    "language_info": {
      "name": "python"
    }
  },
  "cells": [
    {
      "cell_type": "markdown",
      "metadata": {
        "id": "view-in-github",
        "colab_type": "text"
      },
      "source": [
        "<a href=\"https://colab.research.google.com/github/kimwoonggon/3d-vision-snippet-woong/blob/main/Quaternion_Euler_3D_XYZ_ZYX_Comparision.ipynb\" target=\"_parent\"><img src=\"https://colab.research.google.com/assets/colab-badge.svg\" alt=\"Open In Colab\"/></a>"
      ]
    },
    {
      "cell_type": "code",
      "source": [
        "import math as m"
      ],
      "metadata": {
        "id": "fgq0X9Yh9rYn"
      },
      "execution_count": null,
      "outputs": []
    },
    {
      "cell_type": "code",
      "execution_count": null,
      "metadata": {
        "id": "Io14GTjOy5Ag"
      },
      "outputs": [],
      "source": [
        "def q_conjugate(q):\n",
        "    w, x, y, z = q\n",
        "    return (w, -x, -y, -z)"
      ]
    },
    {
      "cell_type": "code",
      "source": [
        "def q_mult(q1, q2):\n",
        "    w1, x1, y1, z1 = q1\n",
        "    w2, x2, y2, z2 = q2\n",
        "    w = w1 * w2 - x1 * x2 - y1 * y2 - z1 * z2\n",
        "    x = w1 * x2 + x1 * w2 + y1 * z2 - z1 * y2\n",
        "    y = w1 * y2 + y1 * w2 + z1 * x2 - x1 * z2\n",
        "    z = w1 * z2 + z1 * w2 + x1 * y2 - y1 * x2\n",
        "    return w, x, y, z"
      ],
      "metadata": {
        "id": "wUtv_Whs_eu5"
      },
      "execution_count": null,
      "outputs": []
    },
    {
      "cell_type": "code",
      "source": [
        "# 증명은 복잡하나 이해 가능하다.\n",
        "# 회전축은 q에 녹아있다. v가 옮길 점임\n",
        "def qv_mult(q1, v1):\n",
        "    q2 = (0.0,) + v1\n",
        "    return q_mult(q_mult(q1, q2), q_conjugate(q1))[1:]"
      ],
      "metadata": {
        "id": "UvLdQxww7SEA"
      },
      "execution_count": null,
      "outputs": []
    },
    {
      "cell_type": "code",
      "source": [
        "def euler_to_quaternion(phi, theta, psi):\n",
        "\n",
        "        qw = m.cos(phi/2) * m.cos(theta/2) * m.cos(psi/2) + m.sin(phi/2) * m.sin(theta/2) * m.sin(psi/2)\n",
        "        qx = m.sin(phi/2) * m.cos(theta/2) * m.cos(psi/2) - m.cos(phi/2) * m.sin(theta/2) * m.sin(psi/2)\n",
        "        qy = m.cos(phi/2) * m.sin(theta/2) * m.cos(psi/2) + m.sin(phi/2) * m.cos(theta/2) * m.sin(psi/2)\n",
        "        qz = m.cos(phi/2) * m.cos(theta/2) * m.sin(psi/2) - m.sin(phi/2) * m.sin(theta/2) * m.cos(psi/2)\n",
        "\n",
        "        return [qw, qx, qy, qz]"
      ],
      "metadata": {
        "id": "jSN64tsN7VeL"
      },
      "execution_count": null,
      "outputs": []
    },
    {
      "cell_type": "code",
      "source": [
        "def quaternion_to_euler(w, x, y, z):\n",
        "\n",
        "        t0 = 2 * (w * x + y * z)\n",
        "        t1 = 1 - 2 * (x * x + y * y)\n",
        "        X = m.atan2(t0, t1)\n",
        "\n",
        "        t2 = 2 * (w * y - z * x)\n",
        "        t2 = 1 if t2 > 1 else t2\n",
        "        t2 = -1 if t2 < -1 else t2\n",
        "        Y = m.asin(t2)\n",
        "\n",
        "        t3 = 2 * (w * z + x * y)\n",
        "        t4 = 1 - 2 * (y * y + z * z)\n",
        "        Z = m.atan2(t3, t4)\n",
        "\n",
        "        return X, Y, Z"
      ],
      "metadata": {
        "id": "HUACrAwe8ilR"
      },
      "execution_count": null,
      "outputs": []
    },
    {
      "cell_type": "markdown",
      "source": [
        "# Example Case (XYZ 오일러 컨벤션에서)"
      ],
      "metadata": {
        "id": "MT79311D8lSW"
      }
    },
    {
      "cell_type": "code",
      "source": [
        "v1 = (1,0,0)\n",
        "phi = m.pi/4\n",
        "theta = m.pi/6\n",
        "psi = m.pi/3\n",
        "q = euler_to_quaternion(phi, theta, psi)\n",
        "print(\"w =\", q[0])\n",
        "print(\"x =\", q[1])\n",
        "print(\"y =\", q[2])\n",
        "print(\"z =\", q[3])\n",
        "v2 = qv_mult(q,v1)\n",
        "print(\"orig : \", v1)\n",
        "print(\"rotated : \", v2)"
      ],
      "metadata": {
        "colab": {
          "base_uri": "https://localhost:8080/"
        },
        "id": "yHzhxqvW8kzI",
        "outputId": "2adbb55e-0119-45eb-f581-2cb897f26be9"
      },
      "execution_count": null,
      "outputs": [
        {
          "output_type": "stream",
          "name": "stdout",
          "text": [
            "w = 0.8223631719059994\n",
            "x = 0.20056212114657512\n",
            "y = 0.3919038373291199\n",
            "z = 0.3604234056503559\n",
            "orig :  (1, 0, 0)\n",
            "rotated :  (0.43301270189221963, 0.75, -0.49999999999999994)\n"
          ]
        }
      ]
    },
    {
      "cell_type": "code",
      "source": [
        "import matplotlib.pyplot as plt\n",
        "\n",
        "fig = plt.figure()\n",
        "ax = fig.add_subplot(111, projection='3d')\n",
        "# Cartesian axes\n",
        "ax.quiver(-1, 0, 0, 3, 0, 0, color='#aaaaaa',linestyle='dashed')\n",
        "ax.quiver(0, -1, 0, 0,3, 0, color='#aaaaaa',linestyle='dashed')\n",
        "ax.quiver(0, 0, -1, 0, 0, 3, color='#aaaaaa',linestyle='dashed')\n",
        "# Vector before rotation\n",
        "ax.quiver(0, 0, 0, 1, 0, 0, color='b')\n",
        "# Vector after rotation\n",
        "ax.quiver(0, 0, 0, 0, 0.71, -0.71, color='r')\n",
        "ax.set_xlim([-1.5, 1.5])\n",
        "ax.set_ylim([-1.5, 1.5])\n",
        "ax.set_zlim([-1.5, 1.5])\n",
        "plt.show()"
      ],
      "metadata": {
        "colab": {
          "base_uri": "https://localhost:8080/",
          "height": 418
        },
        "id": "IDimN2nyEUNx",
        "outputId": "13588d11-d989-4b42-bf79-735a863fb119"
      },
      "execution_count": null,
      "outputs": [
        {
          "output_type": "display_data",
          "data": {
            "text/plain": [
              "<Figure size 640x480 with 1 Axes>"
            ],
            "image/png": "[encoded data removed]"
          },
          "metadata": {}
        }
      ]
    },
    {
      "cell_type": "markdown",
      "source": [
        "# XYZ 컨벤션 시 실험"
      ],
      "metadata": {
        "id": "ul9U-NPWAdwJ"
      }
    },
    {
      "cell_type": "code",
      "source": [
        "import numpy as np\n",
        "from scipy.spatial.transform import Rotation\n",
        "\n",
        "# The given 3D rotation\n",
        "euler = (45, 30, 60) # Unit: [deg] in the XYZ-order\n",
        "\n",
        "# Generate 3D rotation object\n",
        "robj = Rotation.from_euler('xyz', euler, degrees=True)\n",
        "\n",
        "# Print other representations\n",
        "print('\\n## Euler Angle (XYZ)')\n",
        "print(np.rad2deg(robj.as_euler('xyz'))) # [45, 30, 60] [deg] in the XYZ-order\n",
        "print('\\n## Rotation Matrix')\n",
        "print(robj.as_matrix())\n",
        "print('\\n## Rotation Vector')\n",
        "print(robj.as_rotvec())                 # [0.4267, 0.8337, 0.7668]\n",
        "print('\\n## Quaternion (XYZW)')\n",
        "print(robj.as_quat())                   # [0.20, 0.39, 0.36, 0.82]\n",
        "\n",
        "# Original vector\n",
        "v = np.array([1, 0, 0])\n",
        "\n",
        "# Apply the rotation to the vector\n",
        "rotated_v = robj.apply(v)\n",
        "\n",
        "print('Original Vector:')\n",
        "print(v)\n",
        "\n",
        "print('Rotated Vector:')\n",
        "print(rotated_v)"
      ],
      "metadata": {
        "id": "XNncpuYCAgfI",
        "outputId": "859fa7d0-0bc5-48bd-b35e-2c7a997dc775",
        "colab": {
          "base_uri": "https://localhost:8080/"
        }
      },
      "execution_count": null,
      "outputs": [
        {
          "output_type": "stream",
          "name": "stdout",
          "text": [
            "\n",
            "## Euler Angle (XYZ)\n",
            "[45. 30. 60.]\n",
            "\n",
            "## Rotation Matrix\n",
            "[[ 0.4330127  -0.43559574  0.78914913]\n",
            " [ 0.75        0.65973961 -0.04736717]\n",
            " [-0.5         0.61237244  0.61237244]]\n",
            "\n",
            "## Rotation Vector\n",
            "[0.42670289 0.83378905 0.76681334]\n",
            "\n",
            "## Quaternion (XYZW)\n",
            "[0.20056212 0.39190384 0.36042341 0.82236317]\n",
            "Original Vector:\n",
            "[1 0 0]\n",
            "Rotated Vector:\n",
            "[ 0.4330127  0.75      -0.5      ]\n"
          ]
        }
      ]
    },
    {
      "cell_type": "markdown",
      "source": [
        "# 그렇다면 ZYX 컨벤션의 경우에 검산을 해 보자  \n",
        "## XYZ 컨벤션과 ZYX 컨벤션의 결과가 다름을 알 수 있다"
      ],
      "metadata": {
        "id": "CD1JFoGMFdOR"
      }
    },
    {
      "cell_type": "code",
      "source": [
        "# XYZ면 성립하는데 ZYX에서는 성립하지 않는다"
      ],
      "metadata": {
        "id": "HU4NaEnJJdaL"
      },
      "execution_count": null,
      "outputs": []
    },
    {
      "cell_type": "code",
      "source": [
        "import numpy as np\n",
        "from scipy.spatial.transform import Rotation\n",
        "\n",
        "# The given 3D rotation\n",
        "euler = (45, 30, 60) # Unit: [deg] in the XYZ-order\n",
        "\n",
        "# Generate 3D rotation object\n",
        "robj = Rotation.from_euler('zyx', euler[::-1], degrees=True)\n",
        "\n",
        "# Print other representations\n",
        "print('\\n## Euler Angle (ZYX)')\n",
        "print(np.rad2deg(robj.as_euler('zyx'))) # [60, 30, 45] [deg] in the ZYX-order\n",
        "print('\\n## Rotation Matrix')\n",
        "print(robj.as_matrix())\n",
        "print('\\n## Rotation Vector')\n",
        "print(robj.as_rotvec())                 # [0.97, 0.05, 1.17]\n",
        "print('\\n## Quaternion (XYZW)')\n",
        "print(robj.as_quat())                   # [0.44, 0.02, 0.53, 0.72]\n",
        "\n",
        "euler_zyx = robj.as_euler('zyx', degrees=True)\n",
        "print('Euler Angles (ZYX):')\n",
        "print(euler_zyx)\n",
        "\n",
        "# Original vector\n",
        "v = np.array([1, 0, 0])\n",
        "\n",
        "# Apply the rotation to the vector\n",
        "rotated_v = robj.apply(v)\n",
        "\n",
        "print('Original Vector:')\n",
        "print(v)\n",
        "\n",
        "print('Rotated Vector:')\n",
        "print(rotated_v)"
      ],
      "metadata": {
        "colab": {
          "base_uri": "https://localhost:8080/"
        },
        "id": "_cH8yY5WFRsf",
        "outputId": "f2d8fda2-0136-404c-f260-f59cf8eae5d7"
      },
      "execution_count": null,
      "outputs": [
        {
          "output_type": "stream",
          "name": "stdout",
          "text": [
            "\n",
            "## Euler Angle (ZYX)\n",
            "[60. 30. 45.]\n",
            "\n",
            "## Rotation Matrix\n",
            "[[ 0.4330127  -0.75        0.5       ]\n",
            " [ 0.78914913  0.04736717 -0.61237244]\n",
            " [ 0.43559574  0.65973961  0.61237244]]\n",
            "\n",
            "## Rotation Vector\n",
            "[0.97065042 0.04914191 1.17440579]\n",
            "\n",
            "## Quaternion (XYZW)\n",
            "[0.43967974 0.02226003 0.5319757  0.72331741]\n",
            "Euler Angles (ZYX):\n",
            "[60. 30. 45.]\n",
            "Original Vector:\n",
            "[1 0 0]\n",
            "Rotated Vector:\n",
            "[0.4330127  0.78914913 0.43559574]\n"
          ]
        }
      ]
    },
    {
      "cell_type": "code",
      "source": [
        "# Quaternion to euler\n",
        "#각은 역이 아니다\n",
        "#컨벤션 잘 맞추는게 핵심임\n",
        "quaternion_to_euler(0.72331741,0.43967974,0.02226003,0.5319757)"
      ],
      "metadata": {
        "id": "VeYrrROaFrIf",
        "outputId": "a2528f07-40c0-40cf-aa6c-11157139dc74",
        "colab": {
          "base_uri": "https://localhost:8080/"
        }
      },
      "execution_count": null,
      "outputs": [
        {
          "output_type": "execute_result",
          "data": {
            "text/plain": [
              "(0.8226160363108249, -0.45069999996394067, 1.0689453566206435)"
            ]
          },
          "metadata": {},
          "execution_count": 21
        }
      ]
    },
    {
      "cell_type": "code",
      "source": [
        "v1 = (1,0,0)\n",
        "phi = 0.8226160363108249\n",
        "theta =  -0.45069999996394067\n",
        "psi = 1.0689453566206435\n",
        "q = euler_to_quaternion(phi, theta, psi)\n",
        "print(\"w =\", q[0])\n",
        "print(\"x =\", q[1])\n",
        "print(\"y =\", q[2])\n",
        "print(\"z =\", q[3])\n",
        "v2 = qv_mult(q,v1)\n",
        "print(v2)"
      ],
      "metadata": {
        "colab": {
          "base_uri": "https://localhost:8080/"
        },
        "id": "QwhhrQRRJtfo",
        "outputId": "627d0c49-deee-486e-e16f-235544afb331"
      },
      "execution_count": null,
      "outputs": [
        {
          "output_type": "stream",
          "name": "stdout",
          "text": [
            "w = 0.7233174067040553\n",
            "x = 0.43967974057490455\n",
            "y = 0.022260030823712723\n",
            "z = 0.5319757004926374\n",
            "(0.43301269022619016, 0.7891491373753343, 0.43559574043239147)\n"
          ]
        }
      ]
    },
    {
      "cell_type": "code",
      "source": [
        "import numpy as np\n",
        "from scipy.spatial.transform import Rotation\n",
        "\n",
        "# The given 3D rotation\n",
        "euler = (90, 45, 90) # Unit: [deg] in the XYZ-order\n",
        "\n",
        "# Generate 3D rotation object\n",
        "robj = Rotation.from_euler('xyz', euler, degrees=True)\n",
        "\n",
        "# Print other representations\n",
        "print('\\n## Euler Angle (XYZ)')\n",
        "print(np.rad2deg(robj.as_euler('xyz'))) # [90, 45, 90] [deg] in the ZYX-order\n",
        "print('\\n## Rotation Matrix')\n",
        "print(robj.as_matrix())\n",
        "print('\\n## Rotation Vector')\n",
        "print(robj.as_rotvec())                 # [0.97, 0.05, 1.17]\n",
        "print('\\n## Quaternion (XYZW)')\n",
        "print(robj.as_quat())"
      ],
      "metadata": {
        "colab": {
          "base_uri": "https://localhost:8080/"
        },
        "id": "1lP5-iTRGxeM",
        "outputId": "fdc74dd1-b4ba-4dfe-a5d0-17d7856a1aa9"
      },
      "execution_count": null,
      "outputs": [
        {
          "output_type": "stream",
          "name": "stdout",
          "text": [
            "\n",
            "## Euler Angle (XYZ)\n",
            "[90. 45. 90.]\n",
            "\n",
            "## Rotation Matrix\n",
            "[[ 1.11022302e-16 -1.11022302e-16  1.00000000e+00]\n",
            " [ 7.07106781e-01  7.07106781e-01  0.00000000e+00]\n",
            " [-7.07106781e-01  7.07106781e-01  2.22044605e-16]]\n",
            "\n",
            "## Rotation Vector\n",
            "[0.61394313 1.48218982 0.61394313]\n",
            "\n",
            "## Quaternion (XYZW)\n",
            "[0.27059805 0.65328148 0.27059805 0.65328148]\n"
          ]
        }
      ]
    },
    {
      "cell_type": "code",
      "source": [
        "robj.apply([1,0,0])"
      ],
      "metadata": {
        "colab": {
          "base_uri": "https://localhost:8080/"
        },
        "id": "MlUGBFUNIGs7",
        "outputId": "21c9a2be-a20d-4aa9-abbf-bb1b4f45f4fd"
      },
      "execution_count": null,
      "outputs": [
        {
          "output_type": "execute_result",
          "data": {
            "text/plain": [
              "array([ 1.11022302e-16,  7.07106781e-01, -7.07106781e-01])"
            ]
          },
          "metadata": {},
          "execution_count": 18
        }
      ]
    },
    {
      "cell_type": "code",
      "source": [
        "#w = 0.6532814824381883\n",
        "#x = 0.27059805007309845\n",
        "#y = 0.6532814824381882\n",
        "#z = 0.2705980500730985"
      ],
      "metadata": {
        "id": "7jW4aszxGbwW"
      },
      "execution_count": null,
      "outputs": []
    }
  ]
}
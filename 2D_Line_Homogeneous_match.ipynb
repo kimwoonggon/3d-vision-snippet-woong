{
  "nbformat": 4,
  "nbformat_minor": 0,
  "metadata": {
    "colab": {
      "provenance": [],
      "authorship_tag": "ABX9TyP12nUKFIy74QbdV7f5ootE",
      "include_colab_link": true
    },
    "kernelspec": {
      "name": "python3",
      "display_name": "Python 3"
    },
    "language_info": {
      "name": "python"
    }
  },
  "cells": [
    {
      "cell_type": "markdown",
      "metadata": {
        "id": "view-in-github",
        "colab_type": "text"
      },
      "source": [
        "<a href=\"https://colab.research.google.com/github/kimwoonggon/3d-vision-snippet-woong/blob/main/2D_Line_Homogeneous_match.ipynb\" target=\"_parent\"><img src=\"https://colab.research.google.com/assets/colab-badge.svg\" alt=\"Open In Colab\"/></a>"
      ]
    },
    {
      "cell_type": "markdown",
      "source": [
        "# Line Intersection"
      ],
      "metadata": {
        "id": "878zPq_GIWFj"
      }
    },
    {
      "cell_type": "code",
      "source": [
        "#line_intersection.py\n",
        "\n",
        "import numpy as np\n",
        "\n",
        "def get_2d_line_intersection(line_1, line_2):\n",
        "    \"\"\"\n",
        "    Args:\n",
        "    2D 직선의 Line\n",
        "    Returns : 두 직선의 교점\n",
        "    \"\"\"\n",
        "    x_homo = np.cross(line_1, line_2)\n",
        "    if (x_homo[2] == 0):\n",
        "        return None\n",
        "    x = x_homo / x_homo[2]\n",
        "\n",
        "    return (x[0], x[1])\n",
        "\n",
        "def verify_2d_line_intersection(line_1, line_2, intersection):\n",
        "    status = np.isclose(\n",
        "        line_1[0] * intersection[0] + line_1[1] * intersection[1] + line_1[2],\n",
        "        0) and np.isclose(line_2[0]*intersection[0] + line_2[1]*intersection[1]+line_2[2],0)\n",
        "\n",
        "    return status\n",
        "\n",
        "np.random.seed(0)\n",
        "line_1 = np.random.rand(3)\n",
        "line_2 = np.random.rand(3)\n",
        "\n",
        "intersection = get_2d_line_intersection(line_1=line_1, line_2=line_2)\n",
        "\n",
        "print(\"intersection :\", intersection)\n",
        "\n",
        "if intersection is not None:\n",
        "    status = verify_2d_line_intersection(line_1=line_1,\n",
        "                                         line_2=line_2,\n",
        "                                         intersection=intersection)\n",
        "\n",
        "    assert status == True"
      ],
      "metadata": {
        "colab": {
          "base_uri": "https://localhost:8080/"
        },
        "id": "_ivtCGf8IWeb",
        "outputId": "70bbaf50-730b-4389-eaea-2874f5f072a5"
      },
      "execution_count": 3,
      "outputs": [
        {
          "output_type": "stream",
          "name": "stdout",
          "text": [
            "intersection : (-1.314184780919536, 0.1656609898350682)\n"
          ]
        }
      ]
    },
    {
      "cell_type": "markdown",
      "source": [
        "# 2D Line from 2D Points"
      ],
      "metadata": {
        "id": "808T36L-K-Va"
      }
    },
    {
      "cell_type": "code",
      "source": [
        "import numpy as np\n",
        "\n",
        "def get_2d_line_intersection(point_1, point_2):\n",
        "    \"\"\"\n",
        "    point_1 : 2D Point x,y\n",
        "    point_2 : 2D Point x,y\n",
        "\n",
        "    Returns : Homogeneous한 2d 직선 표현\n",
        "    \"\"\"\n",
        "\n",
        "    point_1_homo = (point_1[0], point_1[1], 1)\n",
        "    point_2_homo = (point_2[0], point_2[1], 1)\n",
        "\n",
        "    if point_1_homo == point_2_homo:\n",
        "        return None\n",
        "\n",
        "    line = np.cross(point_1_homo, point_2_homo)\n",
        "\n",
        "    return (line[0], line[1], line[2])\n",
        "\n",
        "def verify_2d_line_point(line, point):\n",
        "    status = np.isclose(line[0] * point[0] + line[1] * point[1] + line[2], 0)\n",
        "\n",
        "    return status\n",
        "\n",
        "\n",
        "np.random.seed(0)\n",
        "\n",
        "point_1 = np.random.rand(2)\n",
        "point_2 = np.random.rand(2)\n",
        "\n",
        "line = get_2d_line_intersection(point_1=point_1, point_2=point_2)\n",
        "print(line)\n",
        "\n",
        "if line is not None:\n",
        "    status = verify_2d_line_point(line=line, point=point_1)\n",
        "    assert status == True\n",
        "    status = verify_2d_line_point(line=line, point=point_2)\n",
        "    assert status == True\n"
      ],
      "metadata": {
        "colab": {
          "base_uri": "https://localhost:8080/"
        },
        "id": "Bz7IYIJ8Kc4F",
        "outputId": "20e455e6-f334-4162-a434-4fcb5a3a43de"
      },
      "execution_count": 4,
      "outputs": [
        {
          "output_type": "stream",
          "name": "stdout",
          "text": [
            "(0.1703061833755226, 0.05394987214431912, -0.13205070811357872)\n"
          ]
        }
      ]
    },
    {
      "cell_type": "code",
      "source": [],
      "metadata": {
        "id": "P3Fn3ohxjFS-"
      },
      "execution_count": null,
      "outputs": []
    }
  ]
}